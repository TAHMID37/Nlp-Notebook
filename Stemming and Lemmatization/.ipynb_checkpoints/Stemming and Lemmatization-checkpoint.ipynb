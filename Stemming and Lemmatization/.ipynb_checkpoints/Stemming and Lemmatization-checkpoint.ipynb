{
 "cells": [
  {
   "cell_type": "markdown",
   "id": "58e49919-24a7-4814-a6ca-b6bdfb5abdad",
   "metadata": {},
   "source": [
    "<h3>Stemming in NLTK</h3> "
   ]
  },
  {
   "cell_type": "code",
   "execution_count": 1,
   "id": "379210d9-56af-4b68-9c1a-905345beff66",
   "metadata": {},
   "outputs": [],
   "source": [
    "from nltk.stem import PorterStemmer\n",
    "stemmer = PorterStemmer()"
   ]
  },
  {
   "cell_type": "code",
   "execution_count": 4,
   "id": "f908aa6c-550b-4c18-a9e7-597d0f2ec239",
   "metadata": {},
   "outputs": [
    {
     "name": "stdout",
     "output_type": "stream",
     "text": [
      "Hugging | hug\n",
      "Sleeping | sleep\n",
      "eating | eat\n",
      "eats | eat\n",
      "eat | eat\n",
      "ate | ate\n",
      "adjustable | adjust\n",
      "rafting | raft\n",
      "ability | abil\n",
      "meeting | meet\n"
     ]
    }
   ],
   "source": [
    "words = [\"Hugging\",\"Sleeping\",\"eating\", \"eats\", \"eat\", \"ate\", \"adjustable\", \"rafting\", \"ability\", \"meeting\"]\n",
    "\n",
    "for word in words:\n",
    "    print(word, \"|\", stemmer.stem(word))"
   ]
  },
  {
   "cell_type": "markdown",
   "id": "04e56b44-f8e2-4c9f-9896-95503338d3b0",
   "metadata": {},
   "source": [
    "<h3>Lemmatization in Spacy</h3>"
   ]
  },
  {
   "cell_type": "code",
   "execution_count": 6,
   "id": "0801e02b-de19-4d70-a0c6-4bbcd17bcef6",
   "metadata": {},
   "outputs": [],
   "source": [
    "import spacy"
   ]
  },
  {
   "cell_type": "code",
   "execution_count": 7,
   "id": "d174481b-62a7-48f0-9993-7e4de9f809b8",
   "metadata": {},
   "outputs": [
    {
     "name": "stdout",
     "output_type": "stream",
     "text": [
      "eating  |  eat\n",
      "eats  |  eat\n",
      "eat  |  eat\n",
      "ate  |  eat\n",
      "adjustable  |  adjustable\n",
      "rafting  |  raft\n",
      "ability  |  ability\n",
      "meeting  |  meeting\n",
      "better  |  well\n"
     ]
    }
   ],
   "source": [
    "nlp = spacy.load(\"en_core_web_sm\")\n",
    "\n",
    "doc = nlp(\"Mando talked for 3 hours although talking isn't his thing\")\n",
    "doc = nlp(\"eating eats eat ate adjustable rafting ability meeting better\")\n",
    "for token in doc:\n",
    "    print(token, \" | \", token.lemma_)"
   ]
  },
  {
   "cell_type": "markdown",
   "id": "199d84fd-511a-4e09-93b8-e58201942ee5",
   "metadata": {},
   "source": [
    "<h3>Customizing lemmatizer</h3>"
   ]
  },
  {
   "cell_type": "code",
   "execution_count": 8,
   "id": "a144c506-ce6e-4e14-b370-bef034fe5a96",
   "metadata": {},
   "outputs": [
    {
     "data": {
      "text/plain": [
       "['tok2vec', 'tagger', 'parser', 'attribute_ruler', 'lemmatizer', 'ner']"
      ]
     },
     "execution_count": 8,
     "metadata": {},
     "output_type": "execute_result"
    }
   ],
   "source": [
    "\n",
    "nlp.pipe_names"
   ]
  },
  {
   "cell_type": "code",
   "execution_count": 9,
   "id": "ab39b51b-02f7-4ffd-8aa9-2188ff41f061",
   "metadata": {},
   "outputs": [
    {
     "name": "stdout",
     "output_type": "stream",
     "text": [
      "Bro | Brother\n",
      ", | ,\n",
      "you | you\n",
      "wanna | wanna\n",
      "go | go\n",
      "? | ?\n",
      "Brah | Brother\n",
      ", | ,\n",
      "do | do\n",
      "n't | not\n",
      "say | say\n",
      "no | no\n",
      "! | !\n",
      "I | I\n",
      "am | be\n",
      "exhausted | exhaust\n"
     ]
    }
   ],
   "source": [
    "ar = nlp.get_pipe('attribute_ruler')\n",
    "\n",
    "ar.add([[{\"TEXT\":\"Bro\"}],[{\"TEXT\":\"Brah\"}]],{\"LEMMA\":\"Brother\"})\n",
    "\n",
    "doc = nlp(\"Bro, you wanna go? Brah, don't say no! I am exhausted\")\n",
    "for token in doc:\n",
    "    print(token.text, \"|\", token.lemma_)"
   ]
  },
  {
   "cell_type": "code",
   "execution_count": 10,
   "id": "66c6dc88-9b11-4067-82ba-fad8f3daa4d6",
   "metadata": {},
   "outputs": [
    {
     "data": {
      "text/plain": [
       "?"
      ]
     },
     "execution_count": 10,
     "metadata": {},
     "output_type": "execute_result"
    }
   ],
   "source": [
    "doc[5]"
   ]
  },
  {
   "cell_type": "code",
   "execution_count": 11,
   "id": "36fb3c45-da5a-43c8-a50e-39aa814efd80",
   "metadata": {},
   "outputs": [
    {
     "data": {
      "text/plain": [
       "Brah"
      ]
     },
     "execution_count": 11,
     "metadata": {},
     "output_type": "execute_result"
    }
   ],
   "source": [
    "doc[6]"
   ]
  },
  {
   "cell_type": "code",
   "execution_count": 12,
   "id": "46bae364-ebf2-4bf3-8ca6-245a126cd3ef",
   "metadata": {},
   "outputs": [
    {
     "data": {
      "text/plain": [
       "4347558510128575363"
      ]
     },
     "execution_count": 12,
     "metadata": {},
     "output_type": "execute_result"
    }
   ],
   "source": [
    "doc[6].lemma"
   ]
  },
  {
   "cell_type": "code",
   "execution_count": 13,
   "id": "e1779f6a-c929-43f4-ae0c-6a5e25763bcf",
   "metadata": {},
   "outputs": [
    {
     "data": {
      "text/plain": [
       "'Brother'"
      ]
     },
     "execution_count": 13,
     "metadata": {},
     "output_type": "execute_result"
    }
   ],
   "source": [
    "doc[6].lemma_"
   ]
  },
  {
   "cell_type": "markdown",
   "id": "dc8a95af-639f-49e5-9aaa-b416a303657c",
   "metadata": {},
   "source": [
    "<h3>Exercise</h3>"
   ]
  },
  {
   "cell_type": "code",
   "execution_count": 17,
   "id": "16919687-dc82-4533-a524-487e987bee67",
   "metadata": {},
   "outputs": [],
   "source": [
    "words = [\"Hugging\",\"Sleeping\",\"eating\", \"eats\", \"eat\", \"ate\", \"adjustable\", \"rafting\", \"ability\", \"meeting\"]\n",
    "words=[  stemmer.stem(word) for word in words]"
   ]
  },
  {
   "cell_type": "code",
   "execution_count": 18,
   "id": "ef363e47-f4db-432a-88a6-8660b48b70a8",
   "metadata": {},
   "outputs": [
    {
     "data": {
      "text/plain": [
       "['hug', 'sleep', 'eat', 'eat', 'eat', 'ate', 'adjust', 'raft', 'abil', 'meet']"
      ]
     },
     "execution_count": 18,
     "metadata": {},
     "output_type": "execute_result"
    }
   ],
   "source": [
    "words"
   ]
  },
  {
   "cell_type": "code",
   "execution_count": 20,
   "id": "5a628120-cb69-4587-b189-1d10bee13874",
   "metadata": {},
   "outputs": [],
   "source": [
    "words = [\"Hugging\",\"Sleeping\",\"eating\", \"eats\", \"eat\", \"ate\", \"adjustable\", \"rafting\", \"ability\", \"meeting\"]\n",
    "words=' '.join(words)"
   ]
  },
  {
   "cell_type": "code",
   "execution_count": 22,
   "id": "70be5aa7-bfc7-42dc-a10d-260b9c7b6050",
   "metadata": {},
   "outputs": [],
   "source": [
    "words\n",
    "words=nlp(words)"
   ]
  },
  {
   "cell_type": "code",
   "execution_count": 23,
   "id": "e2533a36-0311-4116-aa98-dced24d56261",
   "metadata": {},
   "outputs": [],
   "source": [
    "words=[token.lemma_ for token in words]"
   ]
  },
  {
   "cell_type": "code",
   "execution_count": 24,
   "id": "665cf771-1826-41e0-a392-ffba1aa67ec4",
   "metadata": {},
   "outputs": [
    {
     "data": {
      "text/plain": [
       "['hug',\n",
       " 'sleep',\n",
       " 'eating',\n",
       " 'eat',\n",
       " 'eat',\n",
       " 'eat',\n",
       " 'adjustable',\n",
       " 'raft',\n",
       " 'ability',\n",
       " 'meeting']"
      ]
     },
     "execution_count": 24,
     "metadata": {},
     "output_type": "execute_result"
    }
   ],
   "source": [
    "words"
   ]
  },
  {
   "cell_type": "markdown",
   "id": "fd52f1de-83dd-4fbe-92b9-b7deb7446caa",
   "metadata": {},
   "source": [
    "<h3>convert the given text into it's base form using both stemming and lemmatization</h3>"
   ]
  },
  {
   "cell_type": "code",
   "execution_count": 55,
   "id": "797326cf-f735-4b56-b163-7b333efd9a5e",
   "metadata": {},
   "outputs": [],
   "source": [
    "text = \"\"\"Latha is very multi talented girl.She is good at many skills like dancing, running, singing, playing.She also likes eating Pav Bhagi. she has a \n",
    "habit of fishing and swimming too.Besides all this, she is a wonderful at cooking too.\"\"\""
   ]
  },
  {
   "cell_type": "code",
   "execution_count": 27,
   "id": "f070c51a-9027-401f-9bd6-c9b0a3722c83",
   "metadata": {},
   "outputs": [],
   "source": [
    "import nltk\n",
    "words=nltk.word_tokenize(text)"
   ]
  },
  {
   "cell_type": "code",
   "execution_count": 28,
   "id": "9abf6b2d-2eb0-4c28-93f8-b1a7293a69e2",
   "metadata": {},
   "outputs": [
    {
     "data": {
      "text/plain": [
       "['Latha',\n",
       " 'is',\n",
       " 'very',\n",
       " 'multi',\n",
       " 'talented',\n",
       " 'girl.She',\n",
       " 'is',\n",
       " 'good',\n",
       " 'at',\n",
       " 'many',\n",
       " 'skills',\n",
       " 'like',\n",
       " 'dancing',\n",
       " ',',\n",
       " 'running',\n",
       " ',',\n",
       " 'singing',\n",
       " ',',\n",
       " 'playing.She',\n",
       " 'also',\n",
       " 'likes',\n",
       " 'eating',\n",
       " 'Pav',\n",
       " 'Bhagi',\n",
       " '.',\n",
       " 'she',\n",
       " 'has',\n",
       " 'a',\n",
       " 'habit',\n",
       " 'of',\n",
       " 'fishing',\n",
       " 'and',\n",
       " 'swimming',\n",
       " 'too.Besides',\n",
       " 'all',\n",
       " 'this',\n",
       " ',',\n",
       " 'she',\n",
       " 'is',\n",
       " 'a',\n",
       " 'wonderful',\n",
       " 'at',\n",
       " 'cooking',\n",
       " 'too',\n",
       " '.']"
      ]
     },
     "execution_count": 28,
     "metadata": {},
     "output_type": "execute_result"
    }
   ],
   "source": [
    "words"
   ]
  },
  {
   "cell_type": "code",
   "execution_count": 29,
   "id": "7c068790-71ae-4383-bbd2-21d743dfc9f4",
   "metadata": {},
   "outputs": [],
   "source": [
    "word_stem=[stemmer.stem(word) for word in words]"
   ]
  },
  {
   "cell_type": "code",
   "execution_count": 32,
   "id": "ff92249c-c683-4ea3-9c13-5a95c568b480",
   "metadata": {},
   "outputs": [],
   "source": [
    "word_stem=' '.join(word_stem)"
   ]
  },
  {
   "cell_type": "code",
   "execution_count": 33,
   "id": "2862cccb-46d6-411e-94b7-203aaf9244f8",
   "metadata": {},
   "outputs": [
    {
     "data": {
      "text/plain": [
       "'latha is veri multi talent girl.sh is good at mani skill like danc , run , sing , playing.sh also like eat pav bhagi . she ha a habit of fish and swim too.besid all thi , she is a wonder at cook too .'"
      ]
     },
     "execution_count": 33,
     "metadata": {},
     "output_type": "execute_result"
    }
   ],
   "source": [
    "word_stem"
   ]
  },
  {
   "cell_type": "code",
   "execution_count": 56,
   "id": "5c55b05e-9b30-4b7a-ba91-8831d854a36c",
   "metadata": {},
   "outputs": [
    {
     "name": "stdout",
     "output_type": "stream",
     "text": [
      "Latha is very multi talented girl.She is good at many skills like dancing, running, singing, playing.She also likes eating Pav Bhagi. she has a \n",
      "habit of fishing and swimming too.Besides all this, she is a wonderful at cooking too.\n"
     ]
    }
   ],
   "source": [
    "words=nlp(text)\n",
    "print(words)"
   ]
  },
  {
   "cell_type": "code",
   "execution_count": 57,
   "id": "199ae02c-1af2-4329-8430-fe7904d3e30e",
   "metadata": {},
   "outputs": [],
   "source": [
    "words=[token.lemma_ for token in words]"
   ]
  },
  {
   "cell_type": "code",
   "execution_count": 58,
   "id": "cfe3cfe5-6624-41cc-aad3-efbb43eb9a63",
   "metadata": {},
   "outputs": [
    {
     "data": {
      "text/plain": [
       "['Latha',\n",
       " 'be',\n",
       " 'very',\n",
       " 'multi',\n",
       " 'talented',\n",
       " 'girl',\n",
       " '.',\n",
       " 'she',\n",
       " 'be',\n",
       " 'good',\n",
       " 'at',\n",
       " 'many',\n",
       " 'skill',\n",
       " 'like',\n",
       " 'dancing',\n",
       " ',',\n",
       " 'running',\n",
       " ',',\n",
       " 'singing',\n",
       " ',',\n",
       " 'play',\n",
       " '.',\n",
       " 'she',\n",
       " 'also',\n",
       " 'like',\n",
       " 'eat',\n",
       " 'Pav',\n",
       " 'Bhagi',\n",
       " '.',\n",
       " 'she',\n",
       " 'have',\n",
       " 'a',\n",
       " '\\n',\n",
       " 'habit',\n",
       " 'of',\n",
       " 'fishing',\n",
       " 'and',\n",
       " 'swim',\n",
       " 'too',\n",
       " '.',\n",
       " 'besides',\n",
       " 'all',\n",
       " 'this',\n",
       " ',',\n",
       " 'she',\n",
       " 'be',\n",
       " 'a',\n",
       " 'wonderful',\n",
       " 'at',\n",
       " 'cook',\n",
       " 'too',\n",
       " '.']"
      ]
     },
     "execution_count": 58,
     "metadata": {},
     "output_type": "execute_result"
    }
   ],
   "source": [
    "words"
   ]
  },
  {
   "cell_type": "code",
   "execution_count": 60,
   "id": "81f44380-0dea-437e-9011-199a87a8853c",
   "metadata": {},
   "outputs": [],
   "source": [
    "words=' '.join(words)"
   ]
  },
  {
   "cell_type": "code",
   "execution_count": 61,
   "id": "28bee231-4a39-494e-9863-b50c981aeb13",
   "metadata": {},
   "outputs": [
    {
     "data": {
      "text/plain": [
       "'Latha be very multi talented girl . she be good at many skill like dancing , running , singing , play . she also like eat Pav Bhagi . she have a \\n habit of fishing and swim too . besides all this , she be a wonderful at cook too .'"
      ]
     },
     "execution_count": 61,
     "metadata": {},
     "output_type": "execute_result"
    }
   ],
   "source": [
    "words"
   ]
  },
  {
   "cell_type": "code",
   "execution_count": null,
   "id": "3b2b7db6-731d-4e2a-a9a1-f3ab94517d6d",
   "metadata": {},
   "outputs": [],
   "source": []
  }
 ],
 "metadata": {
  "kernelspec": {
   "display_name": "Python 3 (ipykernel)",
   "language": "python",
   "name": "python3"
  },
  "language_info": {
   "codemirror_mode": {
    "name": "ipython",
    "version": 3
   },
   "file_extension": ".py",
   "mimetype": "text/x-python",
   "name": "python",
   "nbconvert_exporter": "python",
   "pygments_lexer": "ipython3",
   "version": "3.11.3"
  }
 },
 "nbformat": 4,
 "nbformat_minor": 5
}
