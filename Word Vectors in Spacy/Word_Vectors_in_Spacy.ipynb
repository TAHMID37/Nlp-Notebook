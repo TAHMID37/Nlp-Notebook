{
  "nbformat": 4,
  "nbformat_minor": 0,
  "metadata": {
    "colab": {
      "provenance": []
    },
    "kernelspec": {
      "name": "python3",
      "display_name": "Python 3"
    },
    "language_info": {
      "name": "python"
    }
  },
  "cells": [
    {
      "cell_type": "code",
      "source": [
        "!python -m spacy download en_core_web_lg"
      ],
      "metadata": {
        "id": "b8uxmEnMt8lk"
      },
      "execution_count": null,
      "outputs": []
    },
    {
      "cell_type": "code",
      "execution_count": 3,
      "metadata": {
        "id": "j-Sq70wIrGqf"
      },
      "outputs": [],
      "source": [
        "import spacy\n",
        "\n",
        "# word vectors occupy lot of space. hence en_core_web_sm model do not have them included. \n",
        "# In order to download\n",
        "# word vectors you need to install large or medium english model. We will install the large one!\n",
        "# make sure you have run \"python -m spacy download en_core_web_lg\" to install large english model\n",
        "nlp = spacy.load(\"en_core_web_lg\")"
      ]
    },
    {
      "cell_type": "code",
      "source": [
        "doc = nlp(\"dog cat banana churi\")\n",
        "\n",
        "for token in doc:\n",
        "    print(token.text, \"Vector:\", token.has_vector, \"OOV:\", token.is_oov)"
      ],
      "metadata": {
        "colab": {
          "base_uri": "https://localhost:8080/"
        },
        "id": "PZH71Y0Htvuo",
        "outputId": "28022e5e-0659-40fe-cfe7-bb881969fa34"
      },
      "execution_count": 12,
      "outputs": [
        {
          "output_type": "stream",
          "name": "stdout",
          "text": [
            "dog Vector: True OOV: False\n",
            "cat Vector: True OOV: False\n",
            "banana Vector: True OOV: False\n",
            "churi Vector: False OOV: True\n"
          ]
        }
      ]
    },
    {
      "cell_type": "code",
      "source": [
        "doc[0].vector.shape"
      ],
      "metadata": {
        "colab": {
          "base_uri": "https://localhost:8080/"
        },
        "id": "p5mhvNXYuN7l",
        "outputId": "f32f3d68-5ae5-45ae-9b1e-dc08cceaebae"
      },
      "execution_count": 13,
      "outputs": [
        {
          "output_type": "execute_result",
          "data": {
            "text/plain": [
              "(300,)"
            ]
          },
          "metadata": {},
          "execution_count": 13
        }
      ]
    },
    {
      "cell_type": "code",
      "source": [
        "base_token = nlp(\"bread\")\n",
        "base_token.vector.shape"
      ],
      "metadata": {
        "colab": {
          "base_uri": "https://localhost:8080/"
        },
        "id": "4j3vJilNumF6",
        "outputId": "89e5b8d2-dae6-4929-c27b-3b6316fba13c"
      },
      "execution_count": 14,
      "outputs": [
        {
          "output_type": "execute_result",
          "data": {
            "text/plain": [
              "(300,)"
            ]
          },
          "metadata": {},
          "execution_count": 14
        }
      ]
    },
    {
      "cell_type": "code",
      "source": [
        "doc = nlp(\"Biscuit Cream bread sandwich burger car tiger human wheat Butter Toast\")\n",
        "\n",
        "for token in doc:\n",
        "    print(f\"{token.text} <-> {base_token.text}:\", token.similarity(base_token))"
      ],
      "metadata": {
        "colab": {
          "base_uri": "https://localhost:8080/"
        },
        "id": "gzIi2qqGun9O",
        "outputId": "3cadec95-4a68-483b-8e00-32b7b0578498"
      },
      "execution_count": 22,
      "outputs": [
        {
          "output_type": "stream",
          "name": "stdout",
          "text": [
            "Biscuit <-> bread: 0.40809879459652226\n",
            "Cream <-> bread: 0.25066077845820595\n",
            "bread <-> bread: 1.0\n",
            "sandwich <-> bread: 0.6341067010130894\n",
            "burger <-> bread: 0.47520687769584247\n",
            "car <-> bread: 0.06451533308853552\n",
            "tiger <-> bread: 0.04764611675903374\n",
            "human <-> bread: 0.2151154210812192\n",
            "wheat <-> bread: 0.6150360888607199\n",
            "Butter <-> bread: 0.48654482175899716\n",
            "Toast <-> bread: 0.44797108856081747\n"
          ]
        }
      ]
    },
    {
      "cell_type": "code",
      "source": [
        "def print_similarity(base_word, words_to_compare):\n",
        "    base_token = nlp(base_word)\n",
        "    doc = nlp(words_to_compare)\n",
        "    for token in doc:\n",
        "        print(f\"{token.text} <-> {base_token.text}: \", token.similarity(base_token))"
      ],
      "metadata": {
        "id": "DBByo7FUuqCw"
      },
      "execution_count": 23,
      "outputs": []
    },
    {
      "cell_type": "code",
      "source": [
        "print_similarity(\"iphone\", \"Human apple samsung iphone dog kitten Slow Fast\")"
      ],
      "metadata": {
        "colab": {
          "base_uri": "https://localhost:8080/"
        },
        "id": "_17lbYtOvDjl",
        "outputId": "1b3c30bc-735c-4068-c86b-76ed54f21086"
      },
      "execution_count": 26,
      "outputs": [
        {
          "output_type": "stream",
          "name": "stdout",
          "text": [
            "Human <-> iphone:  -0.05438570994301292\n",
            "apple <-> iphone:  0.4387907401919904\n",
            "samsung <-> iphone:  0.670859081425417\n",
            "iphone <-> iphone:  1.0\n",
            "dog <-> iphone:  0.08211864228011527\n",
            "kitten <-> iphone:  0.10222317834969896\n",
            "Slow <-> iphone:  -0.05645423968504802\n",
            "Fast <-> iphone:  0.013109932954591496\n"
          ]
        }
      ]
    },
    {
      "cell_type": "code",
      "source": [
        "king = nlp.vocab[\"king\"].vector\n",
        "man = nlp.vocab[\"man\"].vector\n",
        "woman = nlp.vocab[\"woman\"].vector\n",
        "queen = nlp.vocab[\"queen\"].vector\n",
        "\n",
        "result = king - man + woman"
      ],
      "metadata": {
        "id": "k2Z5NSFcvJaB"
      },
      "execution_count": 43,
      "outputs": []
    },
    {
      "cell_type": "code",
      "source": [
        "from sklearn.metrics.pairwise import cosine_similarity\n",
        "\n",
        "cosine_similarity([result], [queen])"
      ],
      "metadata": {
        "colab": {
          "base_uri": "https://localhost:8080/"
        },
        "id": "dELbj0hXwUb9",
        "outputId": "f94f5e74-4818-48a5-ffdf-3f452b3a2bdb"
      },
      "execution_count": 44,
      "outputs": [
        {
          "output_type": "execute_result",
          "data": {
            "text/plain": [
              "array([[0.61780137]], dtype=float32)"
            ]
          },
          "metadata": {},
          "execution_count": 44
        }
      ]
    },
    {
      "cell_type": "markdown",
      "source": [
        "link --> https://colab.research.google.com/drive/17RGzXJzLkmKh9vi5c4anhzIEoonNYd4G?usp=sharing"
      ],
      "metadata": {
        "id": "9v_PiE8YwaEK"
      }
    },
    {
      "cell_type": "code",
      "source": [],
      "metadata": {
        "id": "EWUut6Bl09Qm"
      },
      "execution_count": null,
      "outputs": []
    }
  ]
}